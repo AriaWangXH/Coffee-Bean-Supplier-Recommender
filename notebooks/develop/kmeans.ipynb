{
 "cells": [
  {
   "cell_type": "code",
   "execution_count": 1,
   "metadata": {
    "ExecuteTime": {
     "end_time": "2020-06-09T00:31:32.310151Z",
     "start_time": "2020-06-09T00:31:30.385943Z"
    }
   },
   "outputs": [],
   "source": [
    "import pandas as pd\n",
    "import csv\n",
    "\n",
    "# basic plotting and data manipulation\n",
    "import matplotlib as mpl\n",
    "import matplotlib.pyplot as plt\n",
    "import numpy as np\n",
    "import pandas as pd\n",
    "import seaborn as sns\n",
    "from cycler import cycler\n",
    "\n",
    "# For modeling\n",
    "import sklearn\n",
    "from sklearn.preprocessing import StandardScaler\n",
    "from sklearn.cluster import AgglomerativeClustering, KMeans\n",
    "\n",
    "# Update matplotlib defaults to something nicer\n",
    "mpl_update = {\n",
    "    'font.size': 16,\n",
    "    'axes.prop_cycle': cycler('color', ['#edd5a6','#0085ca', '#888b8d', '#00c389', '#f4364c', '#e56db1']),\n",
    "    'xtick.labelsize': 14,\n",
    "    'ytick.labelsize': 14,\n",
    "    'figure.figsize': [12.0, 8.0],\n",
    "    'axes.labelsize': 20,\n",
    "    'axes.labelcolor': '#677385',\n",
    "    'axes.titlesize': 20,\n",
    "    'lines.color': '#0055A7',\n",
    "    'lines.linewidth': 3,\n",
    "    'text.color': '#677385',\n",
    "    'font.family': 'sans-serif',\n",
    "    'font.sans-serif': 'Tahoma'\n",
    "}\n",
    "mpl.rcParams.update(mpl_update)"
   ]
  },
  {
   "cell_type": "markdown",
   "metadata": {},
   "source": [
    "## Load data"
   ]
  },
  {
   "cell_type": "code",
   "execution_count": 2,
   "metadata": {
    "ExecuteTime": {
     "end_time": "2020-06-09T00:31:32.331264Z",
     "start_time": "2020-06-09T00:31:32.312010Z"
    }
   },
   "outputs": [
    {
     "data": {
      "text/plain": [
       "Index(['Unnamed: 0', 'Species', 'Owner', 'Country.of.Origin', 'Farm.Name',\n",
       "       'Lot.Number', 'Mill', 'ICO.Number', 'Company', 'Altitude', 'Region',\n",
       "       'Producer', 'Number.of.Bags', 'Bag.Weight', 'In.Country.Partner',\n",
       "       'Harvest.Year', 'Grading.Date', 'Owner.1', 'Variety',\n",
       "       'Processing.Method', 'Aroma', 'Flavor', 'Aftertaste', 'Acidity', 'Body',\n",
       "       'Balance', 'Uniformity', 'Clean.Cup', 'Sweetness', 'Cupper.Points',\n",
       "       'Total.Cup.Points', 'Moisture', 'Category.One.Defects', 'Quakers',\n",
       "       'Color', 'Category.Two.Defects', 'Expiration', 'Certification.Body',\n",
       "       'Certification.Address', 'Certification.Contact', 'unit_of_measurement',\n",
       "       'altitude_low_meters', 'altitude_high_meters', 'altitude_mean_meters'],\n",
       "      dtype='object')"
      ]
     },
     "execution_count": 2,
     "metadata": {},
     "output_type": "execute_result"
    }
   ],
   "source": [
    "data = pd.read_csv('merged_data_cleaned.csv')\n",
    "data.columns"
   ]
  },
  {
   "cell_type": "code",
   "execution_count": 3,
   "metadata": {
    "ExecuteTime": {
     "end_time": "2020-06-09T00:31:32.345174Z",
     "start_time": "2020-06-09T00:31:32.333070Z"
    }
   },
   "outputs": [],
   "source": [
    "filtered_records = pd.read_csv('merged_data_cleaned.csv',\n",
    "                               usecols=['Unnamed: 0', 'Species', 'Owner.1',\n",
    "                                        'Country.of.Origin', 'Farm.Name', 'Company',\n",
    "                                        'Region', 'Producer', 'Grading.Date', \n",
    "                                        'Processing.Method', 'Aroma', 'Flavor',\n",
    "                                        'Aftertaste', 'Acidity', 'Body',\n",
    "                                        'Balance', 'Uniformity', 'Clean.Cup',\n",
    "                                        'Sweetness', 'Total.Cup.Points',\n",
    "                                        'Moisture','Color'])"
   ]
  },
  {
   "cell_type": "code",
   "execution_count": 4,
   "metadata": {
    "ExecuteTime": {
     "end_time": "2020-06-09T00:31:32.374029Z",
     "start_time": "2020-06-09T00:31:32.346613Z"
    }
   },
   "outputs": [
    {
     "data": {
      "text/html": [
       "<div>\n",
       "<style scoped>\n",
       "    .dataframe tbody tr th:only-of-type {\n",
       "        vertical-align: middle;\n",
       "    }\n",
       "\n",
       "    .dataframe tbody tr th {\n",
       "        vertical-align: top;\n",
       "    }\n",
       "\n",
       "    .dataframe thead th {\n",
       "        text-align: right;\n",
       "    }\n",
       "</style>\n",
       "<table border=\"1\" class=\"dataframe\">\n",
       "  <thead>\n",
       "    <tr style=\"text-align: right;\">\n",
       "      <th></th>\n",
       "      <th>id</th>\n",
       "      <th>Species</th>\n",
       "      <th>Country.of.Origin</th>\n",
       "      <th>Farm.Name</th>\n",
       "      <th>Company</th>\n",
       "      <th>Region</th>\n",
       "      <th>Producer</th>\n",
       "      <th>Grading.Date</th>\n",
       "      <th>Owner.1</th>\n",
       "      <th>Processing.Method</th>\n",
       "      <th>...</th>\n",
       "      <th>Aftertaste</th>\n",
       "      <th>Acidity</th>\n",
       "      <th>Body</th>\n",
       "      <th>Balance</th>\n",
       "      <th>Uniformity</th>\n",
       "      <th>Clean.Cup</th>\n",
       "      <th>Sweetness</th>\n",
       "      <th>Total.Cup.Points</th>\n",
       "      <th>Moisture</th>\n",
       "      <th>Color</th>\n",
       "    </tr>\n",
       "  </thead>\n",
       "  <tbody>\n",
       "    <tr>\n",
       "      <th>0</th>\n",
       "      <td>0</td>\n",
       "      <td>Arabica</td>\n",
       "      <td>Ethiopia</td>\n",
       "      <td>metad plc</td>\n",
       "      <td>metad agricultural developmet plc</td>\n",
       "      <td>guji-hambela</td>\n",
       "      <td>METAD PLC</td>\n",
       "      <td>April 4th, 2015</td>\n",
       "      <td>metad plc</td>\n",
       "      <td>Washed / Wet</td>\n",
       "      <td>...</td>\n",
       "      <td>8.67</td>\n",
       "      <td>8.75</td>\n",
       "      <td>8.50</td>\n",
       "      <td>8.42</td>\n",
       "      <td>10.00</td>\n",
       "      <td>10.00</td>\n",
       "      <td>10.00</td>\n",
       "      <td>90.58</td>\n",
       "      <td>0.12</td>\n",
       "      <td>Green</td>\n",
       "    </tr>\n",
       "    <tr>\n",
       "      <th>1</th>\n",
       "      <td>1</td>\n",
       "      <td>Arabica</td>\n",
       "      <td>Ethiopia</td>\n",
       "      <td>metad plc</td>\n",
       "      <td>metad agricultural developmet plc</td>\n",
       "      <td>guji-hambela</td>\n",
       "      <td>METAD PLC</td>\n",
       "      <td>April 4th, 2015</td>\n",
       "      <td>metad plc</td>\n",
       "      <td>Washed / Wet</td>\n",
       "      <td>...</td>\n",
       "      <td>8.50</td>\n",
       "      <td>8.58</td>\n",
       "      <td>8.42</td>\n",
       "      <td>8.42</td>\n",
       "      <td>10.00</td>\n",
       "      <td>10.00</td>\n",
       "      <td>10.00</td>\n",
       "      <td>89.92</td>\n",
       "      <td>0.12</td>\n",
       "      <td>Green</td>\n",
       "    </tr>\n",
       "    <tr>\n",
       "      <th>2</th>\n",
       "      <td>2</td>\n",
       "      <td>Arabica</td>\n",
       "      <td>Guatemala</td>\n",
       "      <td>san marcos barrancas \"san cristobal cuch</td>\n",
       "      <td>NaN</td>\n",
       "      <td>NaN</td>\n",
       "      <td>NaN</td>\n",
       "      <td>May 31st, 2010</td>\n",
       "      <td>Grounds for Health Admin</td>\n",
       "      <td>NaN</td>\n",
       "      <td>...</td>\n",
       "      <td>8.42</td>\n",
       "      <td>8.42</td>\n",
       "      <td>8.33</td>\n",
       "      <td>8.42</td>\n",
       "      <td>10.00</td>\n",
       "      <td>10.00</td>\n",
       "      <td>10.00</td>\n",
       "      <td>89.75</td>\n",
       "      <td>0.00</td>\n",
       "      <td>NaN</td>\n",
       "    </tr>\n",
       "    <tr>\n",
       "      <th>3</th>\n",
       "      <td>3</td>\n",
       "      <td>Arabica</td>\n",
       "      <td>Ethiopia</td>\n",
       "      <td>yidnekachew dabessa coffee plantation</td>\n",
       "      <td>yidnekachew debessa coffee plantation</td>\n",
       "      <td>oromia</td>\n",
       "      <td>Yidnekachew Dabessa Coffee Plantation</td>\n",
       "      <td>March 26th, 2015</td>\n",
       "      <td>Yidnekachew Dabessa</td>\n",
       "      <td>Natural / Dry</td>\n",
       "      <td>...</td>\n",
       "      <td>8.42</td>\n",
       "      <td>8.42</td>\n",
       "      <td>8.50</td>\n",
       "      <td>8.25</td>\n",
       "      <td>10.00</td>\n",
       "      <td>10.00</td>\n",
       "      <td>10.00</td>\n",
       "      <td>89.00</td>\n",
       "      <td>0.11</td>\n",
       "      <td>Green</td>\n",
       "    </tr>\n",
       "    <tr>\n",
       "      <th>4</th>\n",
       "      <td>4</td>\n",
       "      <td>Arabica</td>\n",
       "      <td>Ethiopia</td>\n",
       "      <td>metad plc</td>\n",
       "      <td>metad agricultural developmet plc</td>\n",
       "      <td>guji-hambela</td>\n",
       "      <td>METAD PLC</td>\n",
       "      <td>April 4th, 2015</td>\n",
       "      <td>metad plc</td>\n",
       "      <td>Washed / Wet</td>\n",
       "      <td>...</td>\n",
       "      <td>8.25</td>\n",
       "      <td>8.50</td>\n",
       "      <td>8.42</td>\n",
       "      <td>8.33</td>\n",
       "      <td>10.00</td>\n",
       "      <td>10.00</td>\n",
       "      <td>10.00</td>\n",
       "      <td>88.83</td>\n",
       "      <td>0.12</td>\n",
       "      <td>Green</td>\n",
       "    </tr>\n",
       "    <tr>\n",
       "      <th>...</th>\n",
       "      <td>...</td>\n",
       "      <td>...</td>\n",
       "      <td>...</td>\n",
       "      <td>...</td>\n",
       "      <td>...</td>\n",
       "      <td>...</td>\n",
       "      <td>...</td>\n",
       "      <td>...</td>\n",
       "      <td>...</td>\n",
       "      <td>...</td>\n",
       "      <td>...</td>\n",
       "      <td>...</td>\n",
       "      <td>...</td>\n",
       "      <td>...</td>\n",
       "      <td>...</td>\n",
       "      <td>...</td>\n",
       "      <td>...</td>\n",
       "      <td>...</td>\n",
       "      <td>...</td>\n",
       "      <td>...</td>\n",
       "      <td>...</td>\n",
       "    </tr>\n",
       "    <tr>\n",
       "      <th>1334</th>\n",
       "      <td>1334</td>\n",
       "      <td>Robusta</td>\n",
       "      <td>Ecuador</td>\n",
       "      <td>robustasa</td>\n",
       "      <td>robustasa</td>\n",
       "      <td>san juan, playas</td>\n",
       "      <td>Café Robusta del Ecuador S.A.</td>\n",
       "      <td>January 19th, 2016</td>\n",
       "      <td>Luis Robles</td>\n",
       "      <td>NaN</td>\n",
       "      <td>...</td>\n",
       "      <td>7.33</td>\n",
       "      <td>7.58</td>\n",
       "      <td>5.08</td>\n",
       "      <td>7.83</td>\n",
       "      <td>10.00</td>\n",
       "      <td>10.00</td>\n",
       "      <td>7.75</td>\n",
       "      <td>78.75</td>\n",
       "      <td>0.00</td>\n",
       "      <td>Blue-Green</td>\n",
       "    </tr>\n",
       "    <tr>\n",
       "      <th>1335</th>\n",
       "      <td>1335</td>\n",
       "      <td>Robusta</td>\n",
       "      <td>Ecuador</td>\n",
       "      <td>robustasa</td>\n",
       "      <td>robustasa</td>\n",
       "      <td>san juan, playas</td>\n",
       "      <td>Café Robusta del Ecuador S.A.</td>\n",
       "      <td>January 19th, 2016</td>\n",
       "      <td>Luis Robles</td>\n",
       "      <td>NaN</td>\n",
       "      <td>...</td>\n",
       "      <td>7.75</td>\n",
       "      <td>7.75</td>\n",
       "      <td>5.17</td>\n",
       "      <td>5.25</td>\n",
       "      <td>10.00</td>\n",
       "      <td>10.00</td>\n",
       "      <td>8.42</td>\n",
       "      <td>78.08</td>\n",
       "      <td>0.00</td>\n",
       "      <td>Blue-Green</td>\n",
       "    </tr>\n",
       "    <tr>\n",
       "      <th>1336</th>\n",
       "      <td>1336</td>\n",
       "      <td>Robusta</td>\n",
       "      <td>United States</td>\n",
       "      <td>fazenda cazengo</td>\n",
       "      <td>global opportunity fund</td>\n",
       "      <td>kwanza norte province, angola</td>\n",
       "      <td>Cafe Cazengo</td>\n",
       "      <td>December 23rd, 2014</td>\n",
       "      <td>James Moore</td>\n",
       "      <td>Natural / Dry</td>\n",
       "      <td>...</td>\n",
       "      <td>7.17</td>\n",
       "      <td>7.42</td>\n",
       "      <td>7.50</td>\n",
       "      <td>7.17</td>\n",
       "      <td>9.33</td>\n",
       "      <td>9.33</td>\n",
       "      <td>7.42</td>\n",
       "      <td>77.17</td>\n",
       "      <td>0.00</td>\n",
       "      <td>NaN</td>\n",
       "    </tr>\n",
       "    <tr>\n",
       "      <th>1337</th>\n",
       "      <td>1337</td>\n",
       "      <td>Robusta</td>\n",
       "      <td>India</td>\n",
       "      <td>NaN</td>\n",
       "      <td>cafe politico</td>\n",
       "      <td>NaN</td>\n",
       "      <td>NaN</td>\n",
       "      <td>August 25th, 2014</td>\n",
       "      <td>Cafe Politico</td>\n",
       "      <td>Natural / Dry</td>\n",
       "      <td>...</td>\n",
       "      <td>6.75</td>\n",
       "      <td>7.17</td>\n",
       "      <td>7.25</td>\n",
       "      <td>7.00</td>\n",
       "      <td>9.33</td>\n",
       "      <td>9.33</td>\n",
       "      <td>7.08</td>\n",
       "      <td>75.08</td>\n",
       "      <td>0.10</td>\n",
       "      <td>Green</td>\n",
       "    </tr>\n",
       "    <tr>\n",
       "      <th>1338</th>\n",
       "      <td>1338</td>\n",
       "      <td>Robusta</td>\n",
       "      <td>Vietnam</td>\n",
       "      <td>NaN</td>\n",
       "      <td>cafe politico</td>\n",
       "      <td>NaN</td>\n",
       "      <td>NaN</td>\n",
       "      <td>August 25th, 2014</td>\n",
       "      <td>Cafe Politico</td>\n",
       "      <td>Natural / Dry</td>\n",
       "      <td>...</td>\n",
       "      <td>6.50</td>\n",
       "      <td>6.83</td>\n",
       "      <td>6.92</td>\n",
       "      <td>6.83</td>\n",
       "      <td>9.33</td>\n",
       "      <td>9.33</td>\n",
       "      <td>6.67</td>\n",
       "      <td>73.75</td>\n",
       "      <td>0.12</td>\n",
       "      <td>None</td>\n",
       "    </tr>\n",
       "  </tbody>\n",
       "</table>\n",
       "<p>1339 rows × 22 columns</p>\n",
       "</div>"
      ],
      "text/plain": [
       "        id  Species Country.of.Origin  \\\n",
       "0        0  Arabica          Ethiopia   \n",
       "1        1  Arabica          Ethiopia   \n",
       "2        2  Arabica         Guatemala   \n",
       "3        3  Arabica          Ethiopia   \n",
       "4        4  Arabica          Ethiopia   \n",
       "...    ...      ...               ...   \n",
       "1334  1334  Robusta           Ecuador   \n",
       "1335  1335  Robusta           Ecuador   \n",
       "1336  1336  Robusta     United States   \n",
       "1337  1337  Robusta             India   \n",
       "1338  1338  Robusta           Vietnam   \n",
       "\n",
       "                                     Farm.Name  \\\n",
       "0                                    metad plc   \n",
       "1                                    metad plc   \n",
       "2     san marcos barrancas \"san cristobal cuch   \n",
       "3        yidnekachew dabessa coffee plantation   \n",
       "4                                    metad plc   \n",
       "...                                        ...   \n",
       "1334                                 robustasa   \n",
       "1335                                 robustasa   \n",
       "1336                           fazenda cazengo   \n",
       "1337                                       NaN   \n",
       "1338                                       NaN   \n",
       "\n",
       "                                    Company                         Region  \\\n",
       "0         metad agricultural developmet plc                   guji-hambela   \n",
       "1         metad agricultural developmet plc                   guji-hambela   \n",
       "2                                       NaN                            NaN   \n",
       "3     yidnekachew debessa coffee plantation                         oromia   \n",
       "4         metad agricultural developmet plc                   guji-hambela   \n",
       "...                                     ...                            ...   \n",
       "1334                              robustasa               san juan, playas   \n",
       "1335                              robustasa               san juan, playas   \n",
       "1336                global opportunity fund  kwanza norte province, angola   \n",
       "1337                          cafe politico                            NaN   \n",
       "1338                          cafe politico                            NaN   \n",
       "\n",
       "                                   Producer         Grading.Date  \\\n",
       "0                                 METAD PLC      April 4th, 2015   \n",
       "1                                 METAD PLC      April 4th, 2015   \n",
       "2                                       NaN       May 31st, 2010   \n",
       "3     Yidnekachew Dabessa Coffee Plantation     March 26th, 2015   \n",
       "4                                 METAD PLC      April 4th, 2015   \n",
       "...                                     ...                  ...   \n",
       "1334          Café Robusta del Ecuador S.A.   January 19th, 2016   \n",
       "1335          Café Robusta del Ecuador S.A.   January 19th, 2016   \n",
       "1336                           Cafe Cazengo  December 23rd, 2014   \n",
       "1337                                    NaN    August 25th, 2014   \n",
       "1338                                    NaN    August 25th, 2014   \n",
       "\n",
       "                       Owner.1 Processing.Method  ...  Aftertaste  Acidity  \\\n",
       "0                    metad plc      Washed / Wet  ...        8.67     8.75   \n",
       "1                    metad plc      Washed / Wet  ...        8.50     8.58   \n",
       "2     Grounds for Health Admin               NaN  ...        8.42     8.42   \n",
       "3          Yidnekachew Dabessa     Natural / Dry  ...        8.42     8.42   \n",
       "4                    metad plc      Washed / Wet  ...        8.25     8.50   \n",
       "...                        ...               ...  ...         ...      ...   \n",
       "1334               Luis Robles               NaN  ...        7.33     7.58   \n",
       "1335               Luis Robles               NaN  ...        7.75     7.75   \n",
       "1336               James Moore     Natural / Dry  ...        7.17     7.42   \n",
       "1337             Cafe Politico     Natural / Dry  ...        6.75     7.17   \n",
       "1338             Cafe Politico     Natural / Dry  ...        6.50     6.83   \n",
       "\n",
       "      Body  Balance  Uniformity  Clean.Cup  Sweetness  Total.Cup.Points  \\\n",
       "0     8.50     8.42       10.00      10.00      10.00             90.58   \n",
       "1     8.42     8.42       10.00      10.00      10.00             89.92   \n",
       "2     8.33     8.42       10.00      10.00      10.00             89.75   \n",
       "3     8.50     8.25       10.00      10.00      10.00             89.00   \n",
       "4     8.42     8.33       10.00      10.00      10.00             88.83   \n",
       "...    ...      ...         ...        ...        ...               ...   \n",
       "1334  5.08     7.83       10.00      10.00       7.75             78.75   \n",
       "1335  5.17     5.25       10.00      10.00       8.42             78.08   \n",
       "1336  7.50     7.17        9.33       9.33       7.42             77.17   \n",
       "1337  7.25     7.00        9.33       9.33       7.08             75.08   \n",
       "1338  6.92     6.83        9.33       9.33       6.67             73.75   \n",
       "\n",
       "      Moisture       Color  \n",
       "0         0.12       Green  \n",
       "1         0.12       Green  \n",
       "2         0.00         NaN  \n",
       "3         0.11       Green  \n",
       "4         0.12       Green  \n",
       "...        ...         ...  \n",
       "1334      0.00  Blue-Green  \n",
       "1335      0.00  Blue-Green  \n",
       "1336      0.00         NaN  \n",
       "1337      0.10       Green  \n",
       "1338      0.12        None  \n",
       "\n",
       "[1339 rows x 22 columns]"
      ]
     },
     "execution_count": 4,
     "metadata": {},
     "output_type": "execute_result"
    }
   ],
   "source": [
    "filtered_records = filtered_records.rename(columns={'Unnamed: 0': 'id'})\n",
    "filtered_records"
   ]
  },
  {
   "cell_type": "code",
   "execution_count": 5,
   "metadata": {
    "ExecuteTime": {
     "end_time": "2020-06-09T00:31:32.378955Z",
     "start_time": "2020-06-09T00:31:32.375591Z"
    }
   },
   "outputs": [],
   "source": [
    "feature_names = ['Aroma', 'Aftertaste', 'Acidity', \n",
    "                 'Sweetness', 'Moisture']\n",
    "features = filtered_records[feature_names]"
   ]
  },
  {
   "cell_type": "code",
   "execution_count": 6,
   "metadata": {
    "ExecuteTime": {
     "end_time": "2020-06-09T00:31:32.682256Z",
     "start_time": "2020-06-09T00:31:32.381469Z"
    }
   },
   "outputs": [],
   "source": [
    "features = features[(features.T != 0).any()]"
   ]
  },
  {
   "cell_type": "markdown",
   "metadata": {},
   "source": [
    "## EDA"
   ]
  },
  {
   "cell_type": "code",
   "execution_count": 7,
   "metadata": {
    "ExecuteTime": {
     "end_time": "2020-06-09T00:31:33.739478Z",
     "start_time": "2020-06-09T00:31:32.684713Z"
    }
   },
   "outputs": [
    {
     "data": {
      "image/png": "[encoded data removed]",
      "text/plain": [
       "<Figure size 864x576 with 1 Axes>"
      ]
     },
     "metadata": {
      "needs_background": "light"
     },
     "output_type": "display_data"
    },
    {
     "data": {
      "image/png": "[encoded data removed]",
      "text/plain": [
       "<Figure size 864x576 with 1 Axes>"
      ]
     },
     "metadata": {
      "needs_background": "light"
     },
     "output_type": "display_data"
    },
    {
     "data": {
      "image/png": "[encoded data removed]",
      "text/plain": [
       "<Figure size 864x576 with 1 Axes>"
      ]
     },
     "metadata": {
      "needs_background": "light"
     },
     "output_type": "display_data"
    },
    {
     "data": {
      "image/png": "[encoded data removed]",
      "text/plain": [
       "<Figure size 864x576 with 1 Axes>"
      ]
     },
     "metadata": {
      "needs_background": "light"
     },
     "output_type": "display_data"
    },
    {
     "data": {
      "image/png": "[encoded data removed]",
      "text/plain": [
       "<Figure size 864x576 with 1 Axes>"
      ]
     },
     "metadata": {
      "needs_background": "light"
     },
     "output_type": "display_data"
    }
   ],
   "source": [
    "figs = []\n",
    "for feat in features.columns:\n",
    "    fig, ax = plt.subplots(figsize=(12, 8))\n",
    "    ax.hist([features[feat].values], bins=40)\n",
    "    ax.set_xlabel(' '.join(feat.split('_')).capitalize())\n",
    "    ax.set_ylabel('Number of observations')\n",
    "    figs.append(fig)"
   ]
  },
  {
   "cell_type": "code",
   "execution_count": null,
   "metadata": {},
   "outputs": [],
   "source": []
  },
  {
   "cell_type": "code",
   "execution_count": null,
   "metadata": {},
   "outputs": [],
   "source": []
  },
  {
   "cell_type": "code",
   "execution_count": null,
   "metadata": {},
   "outputs": [],
   "source": []
  },
  {
   "cell_type": "code",
   "execution_count": null,
   "metadata": {},
   "outputs": [],
   "source": []
  },
  {
   "cell_type": "markdown",
   "metadata": {},
   "source": [
    "## Model training"
   ]
  },
  {
   "cell_type": "code",
   "execution_count": 8,
   "metadata": {
    "ExecuteTime": {
     "end_time": "2020-06-09T00:31:33.748656Z",
     "start_time": "2020-06-09T00:31:33.741374Z"
    }
   },
   "outputs": [
    {
     "data": {
      "text/plain": [
       "array([7.5667065 , 7.4010829 , 7.53570575, 9.85669156, 0.08837939])"
      ]
     },
     "execution_count": 8,
     "metadata": {},
     "output_type": "execute_result"
    }
   ],
   "source": [
    "scaler = StandardScaler()\n",
    "feature_scaler = scaler.fit(filtered_records[feature_names])\n",
    "scaled_features = feature_scaler.transform(filtered_records[feature_names])\n",
    "feature_scaler.mean_"
   ]
  },
  {
   "cell_type": "code",
   "execution_count": 9,
   "metadata": {
    "ExecuteTime": {
     "end_time": "2020-06-09T00:31:33.753716Z",
     "start_time": "2020-06-09T00:31:33.750223Z"
    }
   },
   "outputs": [
    {
     "data": {
      "text/plain": [
       "(1339, 5)"
      ]
     },
     "execution_count": 9,
     "metadata": {},
     "output_type": "execute_result"
    }
   ],
   "source": [
    "scaled_features.shape"
   ]
  },
  {
   "cell_type": "markdown",
   "metadata": {},
   "source": [
    "### Plots"
   ]
  },
  {
   "cell_type": "code",
   "execution_count": 10,
   "metadata": {
    "ExecuteTime": {
     "end_time": "2020-06-09T00:31:37.437453Z",
     "start_time": "2020-06-09T00:31:33.755123Z"
    }
   },
   "outputs": [],
   "source": [
    "silhouette = []\n",
    "inertia = []\n",
    "\n",
    "# To capture model objects for each k\n",
    "models = {}\n",
    "\n",
    "# Upper bound for range of k to try \n",
    "kmax = 30\n",
    "for k in range(2, kmax):  \n",
    "    # Create model object\n",
    "    model = KMeans(n_clusters=k, random_state=1218)\n",
    "    \n",
    "    # Train model object\n",
    "    model.fit(scaled_features)\n",
    "    \n",
    "    # Get inertia calculated for trained model \n",
    "    inertia.append(model.inertia_)\n",
    "    \n",
    "    # Calculate silhouette score of trained model\n",
    "    silhouette.append(sklearn.metrics.silhouette_score(scaled_features, model.labels_))\n",
    "    \n",
    "    # Capture trained model object \n",
    "    models[k] = model"
   ]
  },
  {
   "cell_type": "markdown",
   "metadata": {},
   "source": [
    "#### Inertia plot"
   ]
  },
  {
   "cell_type": "code",
   "execution_count": 11,
   "metadata": {
    "ExecuteTime": {
     "end_time": "2020-06-09T00:31:37.742897Z",
     "start_time": "2020-06-09T00:31:37.439277Z"
    }
   },
   "outputs": [
    {
     "data": {
      "image/png": "[encoded data removed]",
      "text/plain": [
       "<Figure size 864x576 with 1 Axes>"
      ]
     },
     "metadata": {
      "needs_background": "light"
     },
     "output_type": "display_data"
    }
   ],
   "source": [
    "fig, ax = plt.subplots(figsize=(12,8));\n",
    "ax.scatter(range(2,kmax), inertia);\n",
    "ax.set_xlabel('Number of clusters, $k$');\n",
    "ax.set_ylabel('Inertia');\n",
    "ax.set_title('Inertia vs number of clusters');"
   ]
  },
  {
   "cell_type": "markdown",
   "metadata": {},
   "source": [
    "#### Silhouette score"
   ]
  },
  {
   "cell_type": "code",
   "execution_count": 12,
   "metadata": {
    "ExecuteTime": {
     "end_time": "2020-06-09T00:31:37.901323Z",
     "start_time": "2020-06-09T00:31:37.744392Z"
    }
   },
   "outputs": [
    {
     "data": {
      "image/png": "[encoded data removed]",
      "text/plain": [
       "<Figure size 864x576 with 1 Axes>"
      ]
     },
     "metadata": {
      "needs_background": "light"
     },
     "output_type": "display_data"
    }
   ],
   "source": [
    "fig, ax = plt.subplots(figsize=(12,8));\n",
    "ax.scatter(range(2,kmax), silhouette);\n",
    "ax.set_xlabel('Number of clusters, $k$');\n",
    "ax.set_ylabel('Silhouette score');"
   ]
  },
  {
   "cell_type": "markdown",
   "metadata": {},
   "source": [
    "We choose k = 15 because it is close to the elbow of the inertia curve and produces a silhouette score that is better  than the surrounding choices of $k$."
   ]
  },
  {
   "cell_type": "markdown",
   "metadata": {},
   "source": [
    "## Model fitting"
   ]
  },
  {
   "cell_type": "code",
   "execution_count": 13,
   "metadata": {
    "ExecuteTime": {
     "end_time": "2020-06-09T00:31:37.905107Z",
     "start_time": "2020-06-09T00:31:37.902928Z"
    }
   },
   "outputs": [],
   "source": [
    "k_chosen = 5"
   ]
  },
  {
   "cell_type": "code",
   "execution_count": 14,
   "metadata": {
    "ExecuteTime": {
     "end_time": "2020-06-09T00:31:41.918393Z",
     "start_time": "2020-06-09T00:31:37.906466Z"
    }
   },
   "outputs": [
    {
     "name": "stdout",
     "output_type": "stream",
     "text": [
      "49.5 ms ± 2.9 ms per loop (mean ± std. dev. of 7 runs, 10 loops each)\n"
     ]
    }
   ],
   "source": [
    "model = KMeans(n_clusters=k_chosen, random_state=1218)\n",
    "\n",
    "%timeit model.fit(scaled_features)"
   ]
  },
  {
   "cell_type": "code",
   "execution_count": 15,
   "metadata": {
    "ExecuteTime": {
     "end_time": "2020-06-09T00:31:41.923811Z",
     "start_time": "2020-06-09T00:31:41.920161Z"
    }
   },
   "outputs": [],
   "source": [
    "filtered_records['cluster'] = model.predict(scaled_features)"
   ]
  },
  {
   "cell_type": "code",
   "execution_count": 16,
   "metadata": {
    "ExecuteTime": {
     "end_time": "2020-06-09T00:31:41.949926Z",
     "start_time": "2020-06-09T00:31:41.925044Z"
    }
   },
   "outputs": [
    {
     "data": {
      "text/html": [
       "<div>\n",
       "<style scoped>\n",
       "    .dataframe tbody tr th:only-of-type {\n",
       "        vertical-align: middle;\n",
       "    }\n",
       "\n",
       "    .dataframe tbody tr th {\n",
       "        vertical-align: top;\n",
       "    }\n",
       "\n",
       "    .dataframe thead th {\n",
       "        text-align: right;\n",
       "    }\n",
       "</style>\n",
       "<table border=\"1\" class=\"dataframe\">\n",
       "  <thead>\n",
       "    <tr style=\"text-align: right;\">\n",
       "      <th></th>\n",
       "      <th>id</th>\n",
       "      <th>Species</th>\n",
       "      <th>Country.of.Origin</th>\n",
       "      <th>Farm.Name</th>\n",
       "      <th>Company</th>\n",
       "      <th>Region</th>\n",
       "      <th>Producer</th>\n",
       "      <th>Grading.Date</th>\n",
       "      <th>Owner.1</th>\n",
       "      <th>Processing.Method</th>\n",
       "      <th>...</th>\n",
       "      <th>Acidity</th>\n",
       "      <th>Body</th>\n",
       "      <th>Balance</th>\n",
       "      <th>Uniformity</th>\n",
       "      <th>Clean.Cup</th>\n",
       "      <th>Sweetness</th>\n",
       "      <th>Total.Cup.Points</th>\n",
       "      <th>Moisture</th>\n",
       "      <th>Color</th>\n",
       "      <th>cluster</th>\n",
       "    </tr>\n",
       "  </thead>\n",
       "  <tbody>\n",
       "    <tr>\n",
       "      <th>0</th>\n",
       "      <td>0</td>\n",
       "      <td>Arabica</td>\n",
       "      <td>Ethiopia</td>\n",
       "      <td>metad plc</td>\n",
       "      <td>metad agricultural developmet plc</td>\n",
       "      <td>guji-hambela</td>\n",
       "      <td>METAD PLC</td>\n",
       "      <td>April 4th, 2015</td>\n",
       "      <td>metad plc</td>\n",
       "      <td>Washed / Wet</td>\n",
       "      <td>...</td>\n",
       "      <td>8.75</td>\n",
       "      <td>8.50</td>\n",
       "      <td>8.42</td>\n",
       "      <td>10.00</td>\n",
       "      <td>10.00</td>\n",
       "      <td>10.00</td>\n",
       "      <td>90.58</td>\n",
       "      <td>0.12</td>\n",
       "      <td>Green</td>\n",
       "      <td>4</td>\n",
       "    </tr>\n",
       "    <tr>\n",
       "      <th>1</th>\n",
       "      <td>1</td>\n",
       "      <td>Arabica</td>\n",
       "      <td>Ethiopia</td>\n",
       "      <td>metad plc</td>\n",
       "      <td>metad agricultural developmet plc</td>\n",
       "      <td>guji-hambela</td>\n",
       "      <td>METAD PLC</td>\n",
       "      <td>April 4th, 2015</td>\n",
       "      <td>metad plc</td>\n",
       "      <td>Washed / Wet</td>\n",
       "      <td>...</td>\n",
       "      <td>8.58</td>\n",
       "      <td>8.42</td>\n",
       "      <td>8.42</td>\n",
       "      <td>10.00</td>\n",
       "      <td>10.00</td>\n",
       "      <td>10.00</td>\n",
       "      <td>89.92</td>\n",
       "      <td>0.12</td>\n",
       "      <td>Green</td>\n",
       "      <td>4</td>\n",
       "    </tr>\n",
       "    <tr>\n",
       "      <th>2</th>\n",
       "      <td>2</td>\n",
       "      <td>Arabica</td>\n",
       "      <td>Guatemala</td>\n",
       "      <td>san marcos barrancas \"san cristobal cuch</td>\n",
       "      <td>NaN</td>\n",
       "      <td>NaN</td>\n",
       "      <td>NaN</td>\n",
       "      <td>May 31st, 2010</td>\n",
       "      <td>Grounds for Health Admin</td>\n",
       "      <td>NaN</td>\n",
       "      <td>...</td>\n",
       "      <td>8.42</td>\n",
       "      <td>8.33</td>\n",
       "      <td>8.42</td>\n",
       "      <td>10.00</td>\n",
       "      <td>10.00</td>\n",
       "      <td>10.00</td>\n",
       "      <td>89.75</td>\n",
       "      <td>0.00</td>\n",
       "      <td>NaN</td>\n",
       "      <td>3</td>\n",
       "    </tr>\n",
       "    <tr>\n",
       "      <th>3</th>\n",
       "      <td>3</td>\n",
       "      <td>Arabica</td>\n",
       "      <td>Ethiopia</td>\n",
       "      <td>yidnekachew dabessa coffee plantation</td>\n",
       "      <td>yidnekachew debessa coffee plantation</td>\n",
       "      <td>oromia</td>\n",
       "      <td>Yidnekachew Dabessa Coffee Plantation</td>\n",
       "      <td>March 26th, 2015</td>\n",
       "      <td>Yidnekachew Dabessa</td>\n",
       "      <td>Natural / Dry</td>\n",
       "      <td>...</td>\n",
       "      <td>8.42</td>\n",
       "      <td>8.50</td>\n",
       "      <td>8.25</td>\n",
       "      <td>10.00</td>\n",
       "      <td>10.00</td>\n",
       "      <td>10.00</td>\n",
       "      <td>89.00</td>\n",
       "      <td>0.11</td>\n",
       "      <td>Green</td>\n",
       "      <td>4</td>\n",
       "    </tr>\n",
       "    <tr>\n",
       "      <th>4</th>\n",
       "      <td>4</td>\n",
       "      <td>Arabica</td>\n",
       "      <td>Ethiopia</td>\n",
       "      <td>metad plc</td>\n",
       "      <td>metad agricultural developmet plc</td>\n",
       "      <td>guji-hambela</td>\n",
       "      <td>METAD PLC</td>\n",
       "      <td>April 4th, 2015</td>\n",
       "      <td>metad plc</td>\n",
       "      <td>Washed / Wet</td>\n",
       "      <td>...</td>\n",
       "      <td>8.50</td>\n",
       "      <td>8.42</td>\n",
       "      <td>8.33</td>\n",
       "      <td>10.00</td>\n",
       "      <td>10.00</td>\n",
       "      <td>10.00</td>\n",
       "      <td>88.83</td>\n",
       "      <td>0.12</td>\n",
       "      <td>Green</td>\n",
       "      <td>4</td>\n",
       "    </tr>\n",
       "    <tr>\n",
       "      <th>...</th>\n",
       "      <td>...</td>\n",
       "      <td>...</td>\n",
       "      <td>...</td>\n",
       "      <td>...</td>\n",
       "      <td>...</td>\n",
       "      <td>...</td>\n",
       "      <td>...</td>\n",
       "      <td>...</td>\n",
       "      <td>...</td>\n",
       "      <td>...</td>\n",
       "      <td>...</td>\n",
       "      <td>...</td>\n",
       "      <td>...</td>\n",
       "      <td>...</td>\n",
       "      <td>...</td>\n",
       "      <td>...</td>\n",
       "      <td>...</td>\n",
       "      <td>...</td>\n",
       "      <td>...</td>\n",
       "      <td>...</td>\n",
       "      <td>...</td>\n",
       "    </tr>\n",
       "    <tr>\n",
       "      <th>1334</th>\n",
       "      <td>1334</td>\n",
       "      <td>Robusta</td>\n",
       "      <td>Ecuador</td>\n",
       "      <td>robustasa</td>\n",
       "      <td>robustasa</td>\n",
       "      <td>san juan, playas</td>\n",
       "      <td>Café Robusta del Ecuador S.A.</td>\n",
       "      <td>January 19th, 2016</td>\n",
       "      <td>Luis Robles</td>\n",
       "      <td>NaN</td>\n",
       "      <td>...</td>\n",
       "      <td>7.58</td>\n",
       "      <td>5.08</td>\n",
       "      <td>7.83</td>\n",
       "      <td>10.00</td>\n",
       "      <td>10.00</td>\n",
       "      <td>7.75</td>\n",
       "      <td>78.75</td>\n",
       "      <td>0.00</td>\n",
       "      <td>Blue-Green</td>\n",
       "      <td>1</td>\n",
       "    </tr>\n",
       "    <tr>\n",
       "      <th>1335</th>\n",
       "      <td>1335</td>\n",
       "      <td>Robusta</td>\n",
       "      <td>Ecuador</td>\n",
       "      <td>robustasa</td>\n",
       "      <td>robustasa</td>\n",
       "      <td>san juan, playas</td>\n",
       "      <td>Café Robusta del Ecuador S.A.</td>\n",
       "      <td>January 19th, 2016</td>\n",
       "      <td>Luis Robles</td>\n",
       "      <td>NaN</td>\n",
       "      <td>...</td>\n",
       "      <td>7.75</td>\n",
       "      <td>5.17</td>\n",
       "      <td>5.25</td>\n",
       "      <td>10.00</td>\n",
       "      <td>10.00</td>\n",
       "      <td>8.42</td>\n",
       "      <td>78.08</td>\n",
       "      <td>0.00</td>\n",
       "      <td>Blue-Green</td>\n",
       "      <td>1</td>\n",
       "    </tr>\n",
       "    <tr>\n",
       "      <th>1336</th>\n",
       "      <td>1336</td>\n",
       "      <td>Robusta</td>\n",
       "      <td>United States</td>\n",
       "      <td>fazenda cazengo</td>\n",
       "      <td>global opportunity fund</td>\n",
       "      <td>kwanza norte province, angola</td>\n",
       "      <td>Cafe Cazengo</td>\n",
       "      <td>December 23rd, 2014</td>\n",
       "      <td>James Moore</td>\n",
       "      <td>Natural / Dry</td>\n",
       "      <td>...</td>\n",
       "      <td>7.42</td>\n",
       "      <td>7.50</td>\n",
       "      <td>7.17</td>\n",
       "      <td>9.33</td>\n",
       "      <td>9.33</td>\n",
       "      <td>7.42</td>\n",
       "      <td>77.17</td>\n",
       "      <td>0.00</td>\n",
       "      <td>NaN</td>\n",
       "      <td>1</td>\n",
       "    </tr>\n",
       "    <tr>\n",
       "      <th>1337</th>\n",
       "      <td>1337</td>\n",
       "      <td>Robusta</td>\n",
       "      <td>India</td>\n",
       "      <td>NaN</td>\n",
       "      <td>cafe politico</td>\n",
       "      <td>NaN</td>\n",
       "      <td>NaN</td>\n",
       "      <td>August 25th, 2014</td>\n",
       "      <td>Cafe Politico</td>\n",
       "      <td>Natural / Dry</td>\n",
       "      <td>...</td>\n",
       "      <td>7.17</td>\n",
       "      <td>7.25</td>\n",
       "      <td>7.00</td>\n",
       "      <td>9.33</td>\n",
       "      <td>9.33</td>\n",
       "      <td>7.08</td>\n",
       "      <td>75.08</td>\n",
       "      <td>0.10</td>\n",
       "      <td>Green</td>\n",
       "      <td>1</td>\n",
       "    </tr>\n",
       "    <tr>\n",
       "      <th>1338</th>\n",
       "      <td>1338</td>\n",
       "      <td>Robusta</td>\n",
       "      <td>Vietnam</td>\n",
       "      <td>NaN</td>\n",
       "      <td>cafe politico</td>\n",
       "      <td>NaN</td>\n",
       "      <td>NaN</td>\n",
       "      <td>August 25th, 2014</td>\n",
       "      <td>Cafe Politico</td>\n",
       "      <td>Natural / Dry</td>\n",
       "      <td>...</td>\n",
       "      <td>6.83</td>\n",
       "      <td>6.92</td>\n",
       "      <td>6.83</td>\n",
       "      <td>9.33</td>\n",
       "      <td>9.33</td>\n",
       "      <td>6.67</td>\n",
       "      <td>73.75</td>\n",
       "      <td>0.12</td>\n",
       "      <td>None</td>\n",
       "      <td>1</td>\n",
       "    </tr>\n",
       "  </tbody>\n",
       "</table>\n",
       "<p>1339 rows × 23 columns</p>\n",
       "</div>"
      ],
      "text/plain": [
       "        id  Species Country.of.Origin  \\\n",
       "0        0  Arabica          Ethiopia   \n",
       "1        1  Arabica          Ethiopia   \n",
       "2        2  Arabica         Guatemala   \n",
       "3        3  Arabica          Ethiopia   \n",
       "4        4  Arabica          Ethiopia   \n",
       "...    ...      ...               ...   \n",
       "1334  1334  Robusta           Ecuador   \n",
       "1335  1335  Robusta           Ecuador   \n",
       "1336  1336  Robusta     United States   \n",
       "1337  1337  Robusta             India   \n",
       "1338  1338  Robusta           Vietnam   \n",
       "\n",
       "                                     Farm.Name  \\\n",
       "0                                    metad plc   \n",
       "1                                    metad plc   \n",
       "2     san marcos barrancas \"san cristobal cuch   \n",
       "3        yidnekachew dabessa coffee plantation   \n",
       "4                                    metad plc   \n",
       "...                                        ...   \n",
       "1334                                 robustasa   \n",
       "1335                                 robustasa   \n",
       "1336                           fazenda cazengo   \n",
       "1337                                       NaN   \n",
       "1338                                       NaN   \n",
       "\n",
       "                                    Company                         Region  \\\n",
       "0         metad agricultural developmet plc                   guji-hambela   \n",
       "1         metad agricultural developmet plc                   guji-hambela   \n",
       "2                                       NaN                            NaN   \n",
       "3     yidnekachew debessa coffee plantation                         oromia   \n",
       "4         metad agricultural developmet plc                   guji-hambela   \n",
       "...                                     ...                            ...   \n",
       "1334                              robustasa               san juan, playas   \n",
       "1335                              robustasa               san juan, playas   \n",
       "1336                global opportunity fund  kwanza norte province, angola   \n",
       "1337                          cafe politico                            NaN   \n",
       "1338                          cafe politico                            NaN   \n",
       "\n",
       "                                   Producer         Grading.Date  \\\n",
       "0                                 METAD PLC      April 4th, 2015   \n",
       "1                                 METAD PLC      April 4th, 2015   \n",
       "2                                       NaN       May 31st, 2010   \n",
       "3     Yidnekachew Dabessa Coffee Plantation     March 26th, 2015   \n",
       "4                                 METAD PLC      April 4th, 2015   \n",
       "...                                     ...                  ...   \n",
       "1334          Café Robusta del Ecuador S.A.   January 19th, 2016   \n",
       "1335          Café Robusta del Ecuador S.A.   January 19th, 2016   \n",
       "1336                           Cafe Cazengo  December 23rd, 2014   \n",
       "1337                                    NaN    August 25th, 2014   \n",
       "1338                                    NaN    August 25th, 2014   \n",
       "\n",
       "                       Owner.1 Processing.Method  ...  Acidity  Body  Balance  \\\n",
       "0                    metad plc      Washed / Wet  ...     8.75  8.50     8.42   \n",
       "1                    metad plc      Washed / Wet  ...     8.58  8.42     8.42   \n",
       "2     Grounds for Health Admin               NaN  ...     8.42  8.33     8.42   \n",
       "3          Yidnekachew Dabessa     Natural / Dry  ...     8.42  8.50     8.25   \n",
       "4                    metad plc      Washed / Wet  ...     8.50  8.42     8.33   \n",
       "...                        ...               ...  ...      ...   ...      ...   \n",
       "1334               Luis Robles               NaN  ...     7.58  5.08     7.83   \n",
       "1335               Luis Robles               NaN  ...     7.75  5.17     5.25   \n",
       "1336               James Moore     Natural / Dry  ...     7.42  7.50     7.17   \n",
       "1337             Cafe Politico     Natural / Dry  ...     7.17  7.25     7.00   \n",
       "1338             Cafe Politico     Natural / Dry  ...     6.83  6.92     6.83   \n",
       "\n",
       "      Uniformity  Clean.Cup  Sweetness  Total.Cup.Points  Moisture  \\\n",
       "0          10.00      10.00      10.00             90.58      0.12   \n",
       "1          10.00      10.00      10.00             89.92      0.12   \n",
       "2          10.00      10.00      10.00             89.75      0.00   \n",
       "3          10.00      10.00      10.00             89.00      0.11   \n",
       "4          10.00      10.00      10.00             88.83      0.12   \n",
       "...          ...        ...        ...               ...       ...   \n",
       "1334       10.00      10.00       7.75             78.75      0.00   \n",
       "1335       10.00      10.00       8.42             78.08      0.00   \n",
       "1336        9.33       9.33       7.42             77.17      0.00   \n",
       "1337        9.33       9.33       7.08             75.08      0.10   \n",
       "1338        9.33       9.33       6.67             73.75      0.12   \n",
       "\n",
       "           Color  cluster  \n",
       "0          Green        4  \n",
       "1          Green        4  \n",
       "2            NaN        3  \n",
       "3          Green        4  \n",
       "4          Green        4  \n",
       "...          ...      ...  \n",
       "1334  Blue-Green        1  \n",
       "1335  Blue-Green        1  \n",
       "1336         NaN        1  \n",
       "1337       Green        1  \n",
       "1338        None        1  \n",
       "\n",
       "[1339 rows x 23 columns]"
      ]
     },
     "execution_count": 16,
     "metadata": {},
     "output_type": "execute_result"
    }
   ],
   "source": [
    "filtered_records"
   ]
  },
  {
   "cell_type": "code",
   "execution_count": 17,
   "metadata": {
    "ExecuteTime": {
     "end_time": "2020-06-09T00:31:44.061240Z",
     "start_time": "2020-06-09T00:31:41.951379Z"
    }
   },
   "outputs": [
    {
     "name": "stdout",
     "output_type": "stream",
     "text": [
      "255 µs ± 8.56 µs per loop (mean ± std. dev. of 7 runs, 1000 loops each)\n"
     ]
    }
   ],
   "source": [
    "%timeit models[k_chosen].predict(scaled_features[0].reshape(1,-1))"
   ]
  },
  {
   "cell_type": "code",
   "execution_count": 18,
   "metadata": {
    "ExecuteTime": {
     "end_time": "2020-06-09T00:31:46.836298Z",
     "start_time": "2020-06-09T00:31:44.066325Z"
    }
   },
   "outputs": [
    {
     "name": "stdout",
     "output_type": "stream",
     "text": [
      "339 µs ± 6 µs per loop (mean ± std. dev. of 7 runs, 1000 loops each)\n"
     ]
    }
   ],
   "source": [
    "%timeit models[k_chosen].predict(scaled_features)"
   ]
  },
  {
   "cell_type": "markdown",
   "metadata": {},
   "source": [
    "## Evaluation"
   ]
  },
  {
   "cell_type": "code",
   "execution_count": 19,
   "metadata": {
    "ExecuteTime": {
     "end_time": "2020-06-09T00:31:46.845651Z",
     "start_time": "2020-06-09T00:31:46.838748Z"
    }
   },
   "outputs": [],
   "source": [
    "cluster_means = filtered_records.groupby('cluster')[feature_names].mean()\n",
    "\n",
    "population_means = filtered_records[feature_names].mean()\n",
    "\n",
    "lifts = cluster_means.divide(population_means)"
   ]
  },
  {
   "cell_type": "markdown",
   "metadata": {},
   "source": [
    "### Lift plot"
   ]
  },
  {
   "cell_type": "code",
   "execution_count": 27,
   "metadata": {
    "ExecuteTime": {
     "end_time": "2020-06-09T00:31:53.646385Z",
     "start_time": "2020-06-09T00:31:53.441800Z"
    }
   },
   "outputs": [
    {
     "data": {
      "image/png": "[encoded data removed]",
      "text/plain": [
       "<Figure size 1152x720 with 2 Axes>"
      ]
     },
     "metadata": {
      "needs_background": "light"
     },
     "output_type": "display_data"
    }
   ],
   "source": [
    "fig, ax = plt.subplots(figsize=(16, 10))\n",
    "\n",
    "xticklabels = lifts.index.tolist() \n",
    "yticklabels = lifts.columns.tolist()\n",
    "\n",
    "ax = sns.heatmap(lifts.T, center=1, vmax=2.5, cmap=sns.diverging_palette(10, 220, sep=80, n=7),\n",
    "                xticklabels=xticklabels, yticklabels=yticklabels, );\n",
    "ax.set_xlabel('Cluster number');\n",
    "ax.set_title('Lift in cluster features (Cluster mean/population mean)');"
   ]
  },
  {
   "cell_type": "markdown",
   "metadata": {},
   "source": [
    "### Cluster counts"
   ]
  },
  {
   "cell_type": "code",
   "execution_count": 28,
   "metadata": {
    "ExecuteTime": {
     "end_time": "2020-06-09T00:31:54.419509Z",
     "start_time": "2020-06-09T00:31:54.410269Z"
    }
   },
   "outputs": [
    {
     "data": {
      "text/html": [
       "<div>\n",
       "<style scoped>\n",
       "    .dataframe tbody tr th:only-of-type {\n",
       "        vertical-align: middle;\n",
       "    }\n",
       "\n",
       "    .dataframe tbody tr th {\n",
       "        vertical-align: top;\n",
       "    }\n",
       "\n",
       "    .dataframe thead th {\n",
       "        text-align: right;\n",
       "    }\n",
       "</style>\n",
       "<table border=\"1\" class=\"dataframe\">\n",
       "  <thead>\n",
       "    <tr style=\"text-align: right;\">\n",
       "      <th></th>\n",
       "      <th>id</th>\n",
       "    </tr>\n",
       "    <tr>\n",
       "      <th>cluster</th>\n",
       "      <th></th>\n",
       "    </tr>\n",
       "  </thead>\n",
       "  <tbody>\n",
       "    <tr>\n",
       "      <th>0</th>\n",
       "      <td>461</td>\n",
       "    </tr>\n",
       "    <tr>\n",
       "      <th>1</th>\n",
       "      <td>50</td>\n",
       "    </tr>\n",
       "    <tr>\n",
       "      <th>2</th>\n",
       "      <td>1</td>\n",
       "    </tr>\n",
       "    <tr>\n",
       "      <th>3</th>\n",
       "      <td>269</td>\n",
       "    </tr>\n",
       "    <tr>\n",
       "      <th>4</th>\n",
       "      <td>558</td>\n",
       "    </tr>\n",
       "  </tbody>\n",
       "</table>\n",
       "</div>"
      ],
      "text/plain": [
       "          id\n",
       "cluster     \n",
       "0        461\n",
       "1         50\n",
       "2          1\n",
       "3        269\n",
       "4        558"
      ]
     },
     "execution_count": 28,
     "metadata": {},
     "output_type": "execute_result"
    }
   ],
   "source": [
    "training_counts = filtered_records.groupby('cluster').count()[['id']]\n",
    "training_counts"
   ]
  },
  {
   "cell_type": "code",
   "execution_count": 29,
   "metadata": {
    "ExecuteTime": {
     "end_time": "2020-06-09T00:31:54.989681Z",
     "start_time": "2020-06-09T00:31:54.743391Z"
    }
   },
   "outputs": [
    {
     "data": {
      "image/png": "[encoded data removed]",
      "text/plain": [
       "<Figure size 864x576 with 1 Axes>"
      ]
     },
     "metadata": {
      "needs_background": "light"
     },
     "output_type": "display_data"
    }
   ],
   "source": [
    "ax = training_counts.divide(len(filtered_records)).plot(kind=\"barh\", color='#888b8d', alpha=0.5)\n",
    "ax.set_xlabel(\"Fraction of beans belonging to cluster\");\n",
    "ax.set_ylabel(\"Cluster label\");\n",
    "ax.set_title(\"Relative size of each cluster\");\n",
    "ax.get_legend().remove()\n",
    "fig = ax.get_figure()\n",
    "fig.savefig(\"output.png\")"
   ]
  },
  {
   "cell_type": "code",
   "execution_count": 30,
   "metadata": {
    "ExecuteTime": {
     "end_time": "2020-06-09T00:31:55.121955Z",
     "start_time": "2020-06-09T00:31:55.118258Z"
    }
   },
   "outputs": [
    {
     "data": {
      "text/plain": [
       "KMeans(algorithm='auto', copy_x=True, init='k-means++', max_iter=300,\n",
       "       n_clusters=5, n_init=10, n_jobs=None, precompute_distances='auto',\n",
       "       random_state=1218, tol=0.0001, verbose=0)"
      ]
     },
     "execution_count": 30,
     "metadata": {},
     "output_type": "execute_result"
    }
   ],
   "source": [
    "model"
   ]
  }
 ],
 "metadata": {
  "kernelspec": {
   "display_name": "Python 3",
   "language": "python",
   "name": "python3"
  },
  "language_info": {
   "codemirror_mode": {
    "name": "ipython",
    "version": 3
   },
   "file_extension": ".py",
   "mimetype": "text/x-python",
   "name": "python",
   "nbconvert_exporter": "python",
   "pygments_lexer": "ipython3",
   "version": "3.7.5"
  },
  "toc": {
   "base_numbering": 1,
   "nav_menu": {},
   "number_sections": true,
   "sideBar": true,
   "skip_h1_title": false,
   "title_cell": "Table of Contents",
   "title_sidebar": "Contents",
   "toc_cell": false,
   "toc_position": {},
   "toc_section_display": true,
   "toc_window_display": false
  }
 },
 "nbformat": 4,
 "nbformat_minor": 2
}
